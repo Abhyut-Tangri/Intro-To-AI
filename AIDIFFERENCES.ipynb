{
 "cells": [
  {
   "cell_type": "markdown",
   "metadata": {},
   "source": [
    "# The difference between different types of AI and what AI is\n",
    "Ai is is a intelligence system that can perform advanced actions\n",
    "there are three different AI systems ANI, Generative AI and AGI\n",
    "ANI is narrow and for specialized performance tasks, like car driving, but would not be useful to complete a different task\n",
    "Generative AI is more general purposed and can be used for far more tasks than before\n",
    "AGI an AI system that can do whatever a human can\n",
    "\n",
    "\n",
    "\n"
   ]
  },
  {
   "cell_type": "code",
   "execution_count": null,
   "metadata": {},
   "outputs": [],
   "source": [
    "#Code that simulates a simple descision making process"
   ]
  },
  {
   "cell_type": "code",
   "execution_count": 1,
   "metadata": {},
   "outputs": [
    {
     "ename": "SyntaxError",
     "evalue": "expected ':' (132126116.py, line 16)",
     "output_type": "error",
     "traceback": [
      "\u001b[1;36m  Cell \u001b[1;32mIn[1], line 16\u001b[1;36m\u001b[0m\n\u001b[1;33m    elif animal_chocie=='no'\u001b[0m\n\u001b[1;37m                            ^\u001b[0m\n\u001b[1;31mSyntaxError\u001b[0m\u001b[1;31m:\u001b[0m expected ':'\n"
     ]
    }
   ],
   "source": [
    "animals='elk','moose','cat','dog','bird'\n",
    "print(animals)\n",
    "print()\n",
    "user_choice=str(input('please type one of the animals above'))\n",
    "if user_choice in animals:\n",
    "    animal_chocie=input('does this animal have antlers')\n",
    "    if animal_chocie=='yes':\n",
    "        antler_choice=str(input('are the antlers flat'))\n",
    "        if antler_choice=='yes':\n",
    "            print('your animal is a moose') \n",
    "        elif antler_choice=='no':\n",
    "            print('your animal is an elk')\n",
    "        else:\n",
    "            print('please try again')\n",
    "            \n",
    "    elif animal_chocie=='no':\n",
    "        flychoice=str(input('can they fly'))\n",
    "        if flychoice=='yes':\n",
    "            print('is a bird your animal')\n",
    "        elif flychoice=='no':\n",
    "            print(' is your animal a dog?')\n",
    "    else:\n",
    "        print('please try again')\n",
    "               \n",
    "else:\n",
    "    print('please choose a animal above')\n",
    "    "
   ]
  },
  {
   "cell_type": "markdown",
   "metadata": {},
   "source": []
  }
 ],
 "metadata": {
  "kernelspec": {
   "display_name": "base",
   "language": "python",
   "name": "python3"
  },
  "language_info": {
   "codemirror_mode": {
    "name": "ipython",
    "version": 3
   },
   "file_extension": ".py",
   "mimetype": "text/x-python",
   "name": "python",
   "nbconvert_exporter": "python",
   "pygments_lexer": "ipython3",
   "version": "3.11.9"
  }
 },
 "nbformat": 4,
 "nbformat_minor": 2
}
